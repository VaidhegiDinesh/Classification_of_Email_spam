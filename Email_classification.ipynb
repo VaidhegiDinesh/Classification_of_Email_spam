{
 "cells": [
  {
   "cell_type": "markdown",
   "metadata": {},
   "source": [
    "Importing The Necessary Libraries"
   ]
  },
  {
   "cell_type": "code",
   "execution_count": 1,
   "metadata": {},
   "outputs": [],
   "source": [
    "import numpy as np\n",
    "import pandas as pd\n",
    "from sklearn.model_selection import train_test_split\n",
    "from sklearn.svm import SVC\n",
    "from sklearn.metrics import accuracy_score, precision_score, recall_score, f1_score, confusion_matrix\n",
    "import matplotlib.pyplot as plt\n",
    "import seaborn as sns\n",
    "from sklearn.decomposition import PCA"
   ]
  },
  {
   "cell_type": "markdown",
   "metadata": {},
   "source": [
    "Loading the Dataset"
   ]
  },
  {
   "cell_type": "code",
   "execution_count": 2,
   "metadata": {},
   "outputs": [
    {
     "name": "stdout",
     "output_type": "stream",
     "text": [
      "\n",
      "\n",
      "The Shape Of the dataset is :  (4601, 58)\n",
      "\n",
      "\n",
      "The Attributes of the dataset is :  Index(['word_freq_make', 'word_freq_address', 'word_freq_all', 'word_freq_3d',\n",
      "       'word_freq_our', 'word_freq_over', 'word_freq_remove',\n",
      "       'word_freq_internet', 'word_freq_order', 'word_freq_mail',\n",
      "       'word_freq_receive', 'word_freq_will', 'word_freq_people',\n",
      "       'word_freq_report', 'word_freq_addresses', 'word_freq_free',\n",
      "       'word_freq_business', 'word_freq_email', 'word_freq_you',\n",
      "       'word_freq_credit', 'word_freq_your', 'word_freq_font', 'word_freq_000',\n",
      "       'word_freq_money', 'word_freq_hp', 'word_freq_hpl', 'word_freq_george',\n",
      "       'word_freq_650', 'word_freq_lab', 'word_freq_labs', 'word_freq_telnet',\n",
      "       'word_freq_857', 'word_freq_data', 'word_freq_415', 'word_freq_85',\n",
      "       'word_freq_technology', 'word_freq_1999', 'word_freq_parts',\n",
      "       'word_freq_pm', 'word_freq_direct', 'word_freq_cs', 'word_freq_meeting',\n",
      "       'word_freq_original', 'word_freq_project', 'word_freq_re',\n",
      "       'word_freq_edu', 'word_freq_table', 'word_freq_conference',\n",
      "       'char_freq_%3B', 'char_freq_%28', 'char_freq_%5B', 'char_freq_%21',\n",
      "       'char_freq_%24', 'char_freq_%23', 'capital_run_length_average',\n",
      "       'capital_run_length_longest', 'capital_run_length_total', 'class'],\n",
      "      dtype='object')\n"
     ]
    }
   ],
   "source": [
    "Email_df=pd.read_csv(\"spambase_csv.csv\")\n",
    "print(\"\\n\\nThe Shape Of the dataset is : \",Email_df.shape)\n",
    "print(\"\\n\\nThe Attributes of the dataset is : \",Email_df.columns)"
   ]
  },
  {
   "cell_type": "markdown",
   "metadata": {},
   "source": [
    "Pre-Processing the data (Handling missing values)"
   ]
  },
  {
   "cell_type": "code",
   "execution_count": 3,
   "metadata": {},
   "outputs": [
    {
     "name": "stdout",
     "output_type": "stream",
     "text": [
      "The Number of Missing Values in the dataset\n",
      "\n"
     ]
    },
    {
     "data": {
      "text/plain": [
       "word_freq_make                0\n",
       "word_freq_address             0\n",
       "word_freq_all                 0\n",
       "word_freq_3d                  0\n",
       "word_freq_our                 0\n",
       "word_freq_over                0\n",
       "word_freq_remove              0\n",
       "word_freq_internet            0\n",
       "word_freq_order               0\n",
       "word_freq_mail                0\n",
       "word_freq_receive             0\n",
       "word_freq_will                0\n",
       "word_freq_people              0\n",
       "word_freq_report              0\n",
       "word_freq_addresses           0\n",
       "word_freq_free                0\n",
       "word_freq_business            0\n",
       "word_freq_email               0\n",
       "word_freq_you                 0\n",
       "word_freq_credit              0\n",
       "word_freq_your                0\n",
       "word_freq_font                0\n",
       "word_freq_000                 0\n",
       "word_freq_money               0\n",
       "word_freq_hp                  0\n",
       "word_freq_hpl                 0\n",
       "word_freq_george              0\n",
       "word_freq_650                 0\n",
       "word_freq_lab                 0\n",
       "word_freq_labs                0\n",
       "word_freq_telnet              0\n",
       "word_freq_857                 0\n",
       "word_freq_data                0\n",
       "word_freq_415                 0\n",
       "word_freq_85                  0\n",
       "word_freq_technology          0\n",
       "word_freq_1999                0\n",
       "word_freq_parts               0\n",
       "word_freq_pm                  0\n",
       "word_freq_direct              0\n",
       "word_freq_cs                  0\n",
       "word_freq_meeting             0\n",
       "word_freq_original            0\n",
       "word_freq_project             0\n",
       "word_freq_re                  0\n",
       "word_freq_edu                 0\n",
       "word_freq_table               0\n",
       "word_freq_conference          0\n",
       "char_freq_%3B                 0\n",
       "char_freq_%28                 0\n",
       "char_freq_%5B                 0\n",
       "char_freq_%21                 0\n",
       "char_freq_%24                 0\n",
       "char_freq_%23                 0\n",
       "capital_run_length_average    0\n",
       "capital_run_length_longest    0\n",
       "capital_run_length_total      0\n",
       "class                         0\n",
       "dtype: int64"
      ]
     },
     "execution_count": 3,
     "metadata": {},
     "output_type": "execute_result"
    }
   ],
   "source": [
    "print(\"The Number of Missing Values in the dataset\\n\")\n",
    "Email_df.isnull().sum()"
   ]
  },
  {
   "cell_type": "markdown",
   "metadata": {},
   "source": [
    "Feature Engineering Techniques"
   ]
  },
  {
   "cell_type": "code",
   "execution_count": 4,
   "metadata": {},
   "outputs": [],
   "source": [
    "X = Email_df.drop(columns=['class']) \n",
    "y = Email_df['class']"
   ]
  },
  {
   "cell_type": "code",
   "execution_count": 5,
   "metadata": {},
   "outputs": [],
   "source": [
    "pca = PCA(n_components=15)\n",
    "X_pca = pca.fit_transform(X)\n",
    "\n",
    "X_train, X_test, y_train, y_test = train_test_split(X_pca, y, test_size=0.2, random_state=42)"
   ]
  },
  {
   "cell_type": "markdown",
   "metadata": {},
   "source": [
    "Split the data into training, testing and validation sets."
   ]
  },
  {
   "cell_type": "code",
   "execution_count": 6,
   "metadata": {},
   "outputs": [],
   "source": [
    "X_train, X_test, y_train, y_test = train_test_split(X, y, test_size=0.2, random_state=42)"
   ]
  },
  {
   "cell_type": "markdown",
   "metadata": {},
   "source": [
    "Train the model. Test the model. Measure the performance of the trained model."
   ]
  },
  {
   "cell_type": "markdown",
   "metadata": {},
   "source": [
    "1) Linear Kernal"
   ]
  },
  {
   "cell_type": "code",
   "execution_count": 7,
   "metadata": {},
   "outputs": [
    {
     "name": "stdout",
     "output_type": "stream",
     "text": [
      "Accuracy (Linear Kernel): 0.9229098805646037\n"
     ]
    }
   ],
   "source": [
    "svm_linear = SVC(kernel='linear')\n",
    "svm_linear.fit(X_train, y_train)\n",
    "y_pred = svm_linear.predict(X_test)\n",
    "accuracy_linear = svm_linear.score(X_test, y_test)\n",
    "print(\"Accuracy (Linear Kernel):\", accuracy_linear)"
   ]
  },
  {
   "cell_type": "code",
   "execution_count": 8,
   "metadata": {},
   "outputs": [
    {
     "data": {
      "image/png": "[encoded data removed]",
      "text/plain": [
       "<Figure size 800x600 with 2 Axes>"
      ]
     },
     "metadata": {},
     "output_type": "display_data"
    }
   ],
   "source": [
    "conf_matrix = confusion_matrix(y_test, y_pred)\n",
    "plt.figure(figsize=(8, 6))\n",
    "sns.heatmap(conf_matrix, annot=True, fmt=\"d\", cmap=\"Purples\")\n",
    "#colors available: Blues, inferno, Greens\n",
    "plt.xlabel(\"Predicted\")\n",
    "plt.ylabel(\"Actual\")\n",
    "plt.title(\"Confusion Matrix\")\n",
    "plt.show()"
   ]
  },
  {
   "cell_type": "markdown",
   "metadata": {},
   "source": [
    "2) Polynomial kernal"
   ]
  },
  {
   "cell_type": "code",
   "execution_count": 9,
   "metadata": {},
   "outputs": [
    {
     "name": "stdout",
     "output_type": "stream",
     "text": [
      "Accuracy (Polynomial Kernel): 0.6254071661237784\n"
     ]
    }
   ],
   "source": [
    "svm_poly = SVC(kernel='poly')\n",
    "svm_poly.fit(X_train, y_train)\n",
    "y_pred = svm_poly.predict(X_test)\n",
    "accuracy_poly = svm_poly.score(X_test, y_test)\n",
    "print(\"Accuracy (Polynomial Kernel):\", accuracy_poly)"
   ]
  },
  {
   "cell_type": "code",
   "execution_count": 10,
   "metadata": {},
   "outputs": [
    {
     "data": {
      "image/png": "[encoded data removed]",
      "text/plain": [
       "<Figure size 800x600 with 2 Axes>"
      ]
     },
     "metadata": {},
     "output_type": "display_data"
    }
   ],
   "source": [
    "conf_matrix = confusion_matrix(y_test, y_pred)\n",
    "plt.figure(figsize=(8, 6))\n",
    "sns.heatmap(conf_matrix, annot=True, fmt=\"d\", cmap=\"Blues\")\n",
    "plt.xlabel(\"Predicted\")\n",
    "plt.ylabel(\"Actual\")\n",
    "plt.title(\"Confusion Matrix\")\n",
    "plt.show()"
   ]
  },
  {
   "cell_type": "markdown",
   "metadata": {},
   "source": [
    "3) Sigmoid kernal"
   ]
  },
  {
   "cell_type": "code",
   "execution_count": 11,
   "metadata": {},
   "outputs": [
    {
     "name": "stdout",
     "output_type": "stream",
     "text": [
      "Accuracy (Sigmoid Kernel): 0.6351791530944625\n"
     ]
    }
   ],
   "source": [
    "svm_sigmoid = SVC(kernel='sigmoid')\n",
    "svm_sigmoid.fit(X_train, y_train)\n",
    "y_pred = svm_sigmoid.predict(X_test)\n",
    "accuracy_sigmoid = svm_sigmoid.score(X_test, y_test)\n",
    "print(\"Accuracy (Sigmoid Kernel):\", accuracy_sigmoid)"
   ]
  },
  {
   "cell_type": "markdown",
   "metadata": {},
   "source": [
    "Represent the results using graphs."
   ]
  },
  {
   "cell_type": "code",
   "execution_count": 12,
   "metadata": {},
   "outputs": [
    {
     "data": {
      "image/png": "[encoded data removed]",
      "text/plain": [
       "<Figure size 800x600 with 2 Axes>"
      ]
     },
     "metadata": {},
     "output_type": "display_data"
    }
   ],
   "source": [
    "conf_matrix = confusion_matrix(y_test, y_pred)\n",
    "plt.figure(figsize=(8, 6))\n",
    "sns.heatmap(conf_matrix, annot=True, fmt=\"d\", cmap=\"Blues\")\n",
    "plt.xlabel(\"Predicted\")\n",
    "plt.ylabel(\"Actual\")\n",
    "plt.title(\"Confusion Matrix\")\n",
    "plt.show()"
   ]
  },
  {
   "cell_type": "code",
   "execution_count": 13,
   "metadata": {},
   "outputs": [
    {
     "name": "stdout",
     "output_type": "stream",
     "text": [
      "\n",
      "\n",
      "Accuracy (Linear Kernel)     :  92.29098805646036\n",
      "Accuracy (Polynomial Kernel) :  62.54071661237784\n",
      "Accuracy (Sigmoid Kernel)    :  63.51791530944625\n"
     ]
    }
   ],
   "source": [
    "print(\"\\n\\nAccuracy (Linear Kernel)     : \", accuracy_linear*100)\n",
    "print(\"Accuracy (Polynomial Kernel) : \", accuracy_poly*100)\n",
    "print(\"Accuracy (Sigmoid Kernel)    : \", accuracy_sigmoid*100)"
   ]
  }
 ],
 "metadata": {
  "kernelspec": {
   "display_name": "Python 3",
   "language": "python",
   "name": "python3"
  },
  "language_info": {
   "codemirror_mode": {
    "name": "ipython",
    "version": 3
   },
   "file_extension": ".py",
   "mimetype": "text/x-python",
   "name": "python",
   "nbconvert_exporter": "python",
   "pygments_lexer": "ipython3",
   "version": "3.12.2"
  }
 },
 "nbformat": 4,
 "nbformat_minor": 2
}
